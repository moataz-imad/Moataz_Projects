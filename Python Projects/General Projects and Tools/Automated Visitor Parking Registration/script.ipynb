{
 "cells": [
  {
   "cell_type": "code",
   "execution_count": 1,
   "metadata": {},
   "outputs": [],
   "source": [
    "from selenium import webdriver\n",
    "from selenium.webdriver.common.by import By\n",
    "from datetime import datetime\n",
    "import pandas as pd"
   ]
  },
  {
   "cell_type": "code",
   "execution_count": null,
   "metadata": {},
   "outputs": [],
   "source": [
    "pd.DataFrame()"
   ]
  },
  {
   "cell_type": "code",
   "execution_count": 42,
   "metadata": {},
   "outputs": [],
   "source": [
    "driver_path = '../chromedriver\\chromedriver.exe'\n",
    "try:\n",
    "    # Check if a driver instance already exists\n",
    "    if driver is not None:\n",
    "        # If yes, close the existing driver\n",
    "        driver.quit()\n",
    "except NameError:\n",
    "    pass\n",
    "\n",
    "driver = webdriver.Chrome()\n",
    "driver.get(\"https://parking.com\") # website hidden for legal reasons\n",
    "\n",
    "propertname='propertname' \n",
    "apt=2333\n",
    "make='Honda'\n",
    "model='Accord'\n",
    "lplate='platenumber'\n",
    "email='email'\n",
    "\n"
   ]
  },
  {
   "cell_type": "code",
   "execution_count": 43,
   "metadata": {},
   "outputs": [],
   "source": [
    "p_name=driver.find_element(By.ID,'propertyName')\n",
    "p_name.send_keys(propertname)"
   ]
  },
  {
   "cell_type": "code",
   "execution_count": 44,
   "metadata": {},
   "outputs": [],
   "source": [
    "confirm=driver.find_element(By.ID,'confirmProperty')\n",
    "confirm.click()"
   ]
  },
  {
   "cell_type": "code",
   "execution_count": 45,
   "metadata": {},
   "outputs": [],
   "source": [
    "mainform=driver.find_elements(By.CLASS_NAME,'property')\n",
    "mainform[1].click()"
   ]
  },
  {
   "cell_type": "code",
   "execution_count": 46,
   "metadata": {},
   "outputs": [],
   "source": [
    "confirm2=driver.find_element(By.ID,'confirmPropertySelection')\n",
    "confirm2.click()"
   ]
  },
  {
   "cell_type": "code",
   "execution_count": 47,
   "metadata": {},
   "outputs": [],
   "source": [
    "confirm3=driver.find_element(By.ID,'registrationTypeVisitor')\n",
    "confirm3.click()"
   ]
  },
  {
   "cell_type": "code",
   "execution_count": 48,
   "metadata": {},
   "outputs": [
    {
     "data": {
      "text/plain": [
       "<selenium.webdriver.remote.webelement.WebElement (session=\"b05a8eb67dddb44a0be1c9cf6d35ea9f\", element=\"F9577BD0A756A0601FF242679DB44DD0_element_66\")>"
      ]
     },
     "execution_count": 48,
     "metadata": {},
     "output_type": "execute_result"
    }
   ],
   "source": [
    "carform=driver.find_element(By.ID,'property-name-form')\n",
    "carform"
   ]
  },
  {
   "cell_type": "code",
   "execution_count": null,
   "metadata": {},
   "outputs": [],
   "source": [
    "open('C:/Users/moata/Desktop/ParkingConf')"
   ]
  },
  {
   "cell_type": "code",
   "execution_count": 49,
   "metadata": {},
   "outputs": [],
   "source": [
    "f_apt=driver.find_element(By.ID,'vehicleApt')\n",
    "f_make=driver.find_element(By.ID,'vehicleMake')\n",
    "f_model=driver.find_element(By.ID,'vehicleModel')\n",
    "f_lplate1=driver.find_element(By.ID,'vehicleLicensePlate')\n",
    "f_lpate2=driver.find_element(By.ID,'vehicleLicensePlateConfirm')\n",
    "\n",
    "\n",
    "f_apt.send_keys(apt)\n",
    "f_make.send_keys(make)\n",
    "f_model.send_keys(model)\n",
    "f_lplate1.send_keys(lplate)\n",
    "f_lpate2.send_keys(lplate)"
   ]
  },
  {
   "cell_type": "code",
   "execution_count": 50,
   "metadata": {},
   "outputs": [],
   "source": [
    "carform=driver.find_element(By.ID,'vehicleInformation')\n",
    "carform.click()"
   ]
  },
  {
   "cell_type": "code",
   "execution_count": 40,
   "metadata": {},
   "outputs": [
    {
     "ename": "NoSuchElementException",
     "evalue": "Message: no such element: Unable to locate element: {\"method\":\"css selector\",\"selector\":\"[id=\"email-confirmation\"]\"}\n  (Session info: chrome=120.0.6099.225); For documentation on this error, please visit: https://www.selenium.dev/documentation/webdriver/troubleshooting/errors#no-such-element-exception\nStacktrace:\n\tGetHandleVerifier [0x00007FF61CB22142+3514994]\n\t(No symbol) [0x00007FF61C740CE2]\n\t(No symbol) [0x00007FF61C5E76AA]\n\t(No symbol) [0x00007FF61C631860]\n\t(No symbol) [0x00007FF61C63197C]\n\t(No symbol) [0x00007FF61C674EE7]\n\t(No symbol) [0x00007FF61C65602F]\n\t(No symbol) [0x00007FF61C6728F6]\n\t(No symbol) [0x00007FF61C655D93]\n\t(No symbol) [0x00007FF61C624BDC]\n\t(No symbol) [0x00007FF61C625C64]\n\tGetHandleVerifier [0x00007FF61CB4E16B+3695259]\n\tGetHandleVerifier [0x00007FF61CBA6737+4057191]\n\tGetHandleVerifier [0x00007FF61CB9E4E3+4023827]\n\tGetHandleVerifier [0x00007FF61C8704F9+689705]\n\t(No symbol) [0x00007FF61C74C048]\n\t(No symbol) [0x00007FF61C748044]\n\t(No symbol) [0x00007FF61C7481C9]\n\t(No symbol) [0x00007FF61C7388C4]\n\tBaseThreadInitThunk [0x00007FFCF6F4257D+29]\n\tRtlUserThreadStart [0x00007FFCF868AA58+40]\n",
     "output_type": "error",
     "traceback": [
      "\u001b[1;31m---------------------------------------------------------------------------\u001b[0m",
      "\u001b[1;31mNoSuchElementException\u001b[0m                    Traceback (most recent call last)",
      "Cell \u001b[1;32mIn[40], line 1\u001b[0m\n\u001b[1;32m----> 1\u001b[0m emailconf\u001b[38;5;241m=\u001b[39m\u001b[43mdriver\u001b[49m\u001b[38;5;241;43m.\u001b[39;49m\u001b[43mfind_element\u001b[49m\u001b[43m(\u001b[49m\u001b[43mBy\u001b[49m\u001b[38;5;241;43m.\u001b[39;49m\u001b[43mID\u001b[49m\u001b[43m,\u001b[49m\u001b[38;5;124;43m'\u001b[39;49m\u001b[38;5;124;43memail-confirmation\u001b[39;49m\u001b[38;5;124;43m'\u001b[39;49m\u001b[43m)\u001b[49m\n\u001b[0;32m      2\u001b[0m emailconf\u001b[38;5;241m.\u001b[39mclick()\n",
      "File \u001b[1;32mc:\\Users\\moata\\AppData\\Local\\Programs\\Python\\Python310\\lib\\site-packages\\selenium\\webdriver\\remote\\webdriver.py:741\u001b[0m, in \u001b[0;36mWebDriver.find_element\u001b[1;34m(self, by, value)\u001b[0m\n\u001b[0;32m    738\u001b[0m     by \u001b[38;5;241m=\u001b[39m By\u001b[38;5;241m.\u001b[39mCSS_SELECTOR\n\u001b[0;32m    739\u001b[0m     value \u001b[38;5;241m=\u001b[39m \u001b[38;5;124mf\u001b[39m\u001b[38;5;124m'\u001b[39m\u001b[38;5;124m[name=\u001b[39m\u001b[38;5;124m\"\u001b[39m\u001b[38;5;132;01m{\u001b[39;00mvalue\u001b[38;5;132;01m}\u001b[39;00m\u001b[38;5;124m\"\u001b[39m\u001b[38;5;124m]\u001b[39m\u001b[38;5;124m'\u001b[39m\n\u001b[1;32m--> 741\u001b[0m \u001b[38;5;28;01mreturn\u001b[39;00m \u001b[38;5;28;43mself\u001b[39;49m\u001b[38;5;241;43m.\u001b[39;49m\u001b[43mexecute\u001b[49m\u001b[43m(\u001b[49m\u001b[43mCommand\u001b[49m\u001b[38;5;241;43m.\u001b[39;49m\u001b[43mFIND_ELEMENT\u001b[49m\u001b[43m,\u001b[49m\u001b[43m \u001b[49m\u001b[43m{\u001b[49m\u001b[38;5;124;43m\"\u001b[39;49m\u001b[38;5;124;43musing\u001b[39;49m\u001b[38;5;124;43m\"\u001b[39;49m\u001b[43m:\u001b[49m\u001b[43m \u001b[49m\u001b[43mby\u001b[49m\u001b[43m,\u001b[49m\u001b[43m \u001b[49m\u001b[38;5;124;43m\"\u001b[39;49m\u001b[38;5;124;43mvalue\u001b[39;49m\u001b[38;5;124;43m\"\u001b[39;49m\u001b[43m:\u001b[49m\u001b[43m \u001b[49m\u001b[43mvalue\u001b[49m\u001b[43m}\u001b[49m\u001b[43m)\u001b[49m[\u001b[38;5;124m\"\u001b[39m\u001b[38;5;124mvalue\u001b[39m\u001b[38;5;124m\"\u001b[39m]\n",
      "File \u001b[1;32mc:\\Users\\moata\\AppData\\Local\\Programs\\Python\\Python310\\lib\\site-packages\\selenium\\webdriver\\remote\\webdriver.py:347\u001b[0m, in \u001b[0;36mWebDriver.execute\u001b[1;34m(self, driver_command, params)\u001b[0m\n\u001b[0;32m    345\u001b[0m response \u001b[38;5;241m=\u001b[39m \u001b[38;5;28mself\u001b[39m\u001b[38;5;241m.\u001b[39mcommand_executor\u001b[38;5;241m.\u001b[39mexecute(driver_command, params)\n\u001b[0;32m    346\u001b[0m \u001b[38;5;28;01mif\u001b[39;00m response:\n\u001b[1;32m--> 347\u001b[0m     \u001b[38;5;28;43mself\u001b[39;49m\u001b[38;5;241;43m.\u001b[39;49m\u001b[43merror_handler\u001b[49m\u001b[38;5;241;43m.\u001b[39;49m\u001b[43mcheck_response\u001b[49m\u001b[43m(\u001b[49m\u001b[43mresponse\u001b[49m\u001b[43m)\u001b[49m\n\u001b[0;32m    348\u001b[0m     response[\u001b[38;5;124m\"\u001b[39m\u001b[38;5;124mvalue\u001b[39m\u001b[38;5;124m\"\u001b[39m] \u001b[38;5;241m=\u001b[39m \u001b[38;5;28mself\u001b[39m\u001b[38;5;241m.\u001b[39m_unwrap_value(response\u001b[38;5;241m.\u001b[39mget(\u001b[38;5;124m\"\u001b[39m\u001b[38;5;124mvalue\u001b[39m\u001b[38;5;124m\"\u001b[39m, \u001b[38;5;28;01mNone\u001b[39;00m))\n\u001b[0;32m    349\u001b[0m     \u001b[38;5;28;01mreturn\u001b[39;00m response\n",
      "File \u001b[1;32mc:\\Users\\moata\\AppData\\Local\\Programs\\Python\\Python310\\lib\\site-packages\\selenium\\webdriver\\remote\\errorhandler.py:229\u001b[0m, in \u001b[0;36mErrorHandler.check_response\u001b[1;34m(self, response)\u001b[0m\n\u001b[0;32m    227\u001b[0m         alert_text \u001b[38;5;241m=\u001b[39m value[\u001b[38;5;124m\"\u001b[39m\u001b[38;5;124malert\u001b[39m\u001b[38;5;124m\"\u001b[39m]\u001b[38;5;241m.\u001b[39mget(\u001b[38;5;124m\"\u001b[39m\u001b[38;5;124mtext\u001b[39m\u001b[38;5;124m\"\u001b[39m)\n\u001b[0;32m    228\u001b[0m     \u001b[38;5;28;01mraise\u001b[39;00m exception_class(message, screen, stacktrace, alert_text)  \u001b[38;5;66;03m# type: ignore[call-arg]  # mypy is not smart enough here\u001b[39;00m\n\u001b[1;32m--> 229\u001b[0m \u001b[38;5;28;01mraise\u001b[39;00m exception_class(message, screen, stacktrace)\n",
      "\u001b[1;31mNoSuchElementException\u001b[0m: Message: no such element: Unable to locate element: {\"method\":\"css selector\",\"selector\":\"[id=\"email-confirmation\"]\"}\n  (Session info: chrome=120.0.6099.225); For documentation on this error, please visit: https://www.selenium.dev/documentation/webdriver/troubleshooting/errors#no-such-element-exception\nStacktrace:\n\tGetHandleVerifier [0x00007FF61CB22142+3514994]\n\t(No symbol) [0x00007FF61C740CE2]\n\t(No symbol) [0x00007FF61C5E76AA]\n\t(No symbol) [0x00007FF61C631860]\n\t(No symbol) [0x00007FF61C63197C]\n\t(No symbol) [0x00007FF61C674EE7]\n\t(No symbol) [0x00007FF61C65602F]\n\t(No symbol) [0x00007FF61C6728F6]\n\t(No symbol) [0x00007FF61C655D93]\n\t(No symbol) [0x00007FF61C624BDC]\n\t(No symbol) [0x00007FF61C625C64]\n\tGetHandleVerifier [0x00007FF61CB4E16B+3695259]\n\tGetHandleVerifier [0x00007FF61CBA6737+4057191]\n\tGetHandleVerifier [0x00007FF61CB9E4E3+4023827]\n\tGetHandleVerifier [0x00007FF61C8704F9+689705]\n\t(No symbol) [0x00007FF61C74C048]\n\t(No symbol) [0x00007FF61C748044]\n\t(No symbol) [0x00007FF61C7481C9]\n\t(No symbol) [0x00007FF61C7388C4]\n\tBaseThreadInitThunk [0x00007FFCF6F4257D+29]\n\tRtlUserThreadStart [0x00007FFCF868AA58+40]\n"
     ]
    }
   ],
   "source": [
    "emailconf=driver.find_element(By.ID,'email-confirmation')\n",
    "emailconf.click()"
   ]
  },
  {
   "cell_type": "code",
   "execution_count": 69,
   "metadata": {},
   "outputs": [
    {
     "data": {
      "text/plain": [
       "'01-26-2024_0437_PM.png'"
      ]
     },
     "execution_count": 69,
     "metadata": {},
     "output_type": "execute_result"
    }
   ],
   "source": [
    "datetime.now().strftime(\"%m-%d-%Y_%I%M_%p\")\n",
    "f'{current_time}.png'"
   ]
  },
  {
   "cell_type": "code",
   "execution_count": 71,
   "metadata": {},
   "outputs": [
    {
     "name": "stdout",
     "output_type": "stream",
     "text": [
      "The vehicle listed above is approved\n",
      "to park in an authorized space.\n",
      "Z2THXWLD\n"
     ]
    }
   ],
   "source": [
    "success=driver.find_elements(By.CLASS_NAME,'circle-success')\n",
    "current_time = datetime.now().strftime(\"%m-%d-%Y_%I%M_%p\")\n",
    "if len(success):\n",
    "    print('The vehicle listed above is approved\\nto park in an authorized space.')\n",
    "    conf=driver.find_element(By.XPATH,r\"//div[@class='circle-success']/div[@class='circle-inner']/h3\").text\n",
    "    print(conf)\n",
    "    success[0].screenshot(f'{current_time}.png')\n",
    "else:\n",
    "    print('Somehting went wrong!!')\n",
    "    \n",
    "    \n",
    "    \n"
   ]
  },
  {
   "cell_type": "code",
   "execution_count": 62,
   "metadata": {},
   "outputs": [
    {
     "data": {
      "text/plain": [
       "'Z2THXWLD'"
      ]
     },
     "execution_count": 62,
     "metadata": {},
     "output_type": "execute_result"
    }
   ],
   "source": [
    "driver.find_element(By.XPATH,r\"//div[@class='circle-success']/div[@class='circle-inner']/h3\").text"
   ]
  },
  {
   "cell_type": "code",
   "execution_count": 30,
   "metadata": {},
   "outputs": [],
   "source": [
    "\n",
    "emailenter=driver.find_element(By.ID,'emailConfirmationEmailView')\n",
    "emailenter.send_keys(email)"
   ]
  },
  {
   "cell_type": "code",
   "execution_count": 31,
   "metadata": {},
   "outputs": [],
   "source": [
    "emailsend=driver.find_element(By.ID,'email-confirmation-send-view')\n",
    "emailsend.click()"
   ]
  }
 ],
 "metadata": {
  "kernelspec": {
   "display_name": "Python 3",
   "language": "python",
   "name": "python3"
  },
  "language_info": {
   "codemirror_mode": {
    "name": "ipython",
    "version": 3
   },
   "file_extension": ".py",
   "mimetype": "text/x-python",
   "name": "python",
   "nbconvert_exporter": "python",
   "pygments_lexer": "ipython3",
   "version": "undefined.undefined.undefined"
  }
 },
 "nbformat": 4,
 "nbformat_minor": 2
}
