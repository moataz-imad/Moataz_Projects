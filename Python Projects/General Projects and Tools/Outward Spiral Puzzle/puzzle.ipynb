{
 "cells": [
  {
   "cell_type": "code",
   "execution_count": 3,
   "metadata": {},
   "outputs": [],
   "source": [
    "# basic logic:\n",
    "# x+1,y+0\n",
    "# #corner\n",
    "# x+0,y-1\n",
    "# #corner\n",
    "# x-1,y+0\n",
    "# x-2,y+0\n",
    "# #corner\n",
    "# x+0,y+1\n",
    "# x+0,y+1\n",
    "\n",
    "    \n",
    "def generate_spiral_matrix(n):\n",
    "    \"\"\"\n",
    "    Generates a 2-D array representing a spiral matrix of size n x n.\n",
    "\n",
    "    Args:\n",
    "    n (int): The size of the square spiral matrix.\n",
    "\n",
    "    Returns:\n",
    "    list of lists: A 2-D array representing the spiral matrix.\n",
    "\n",
    "    Example:\n",
    "    generate_spiral_matrix(3)\n",
    "    [[5, 6, 7],\n",
    "    [4, 1, 8],\n",
    "    [3, 2, 9]]\n",
    "    \"\"\"\n",
    "    # Initialize variables\n",
    "    fx = 1\n",
    "    fy = 1\n",
    "    moving='x'\n",
    "    s = 0\n",
    "    corner_count = 0\n",
    "    steps = 1\n",
    "    nx = n // 2\n",
    "    ny = n // 2\n",
    "    matrix = [[0 for _ in range(n)] for _ in range(n)]\n",
    "    matrix[nx][ny] = 1\n",
    "    number = 1\n",
    "    \n",
    "    # Loop to generate spiral matrix\n",
    "    while steps <= n:\n",
    "        s += 1\n",
    "        if s <= steps:\n",
    "            number += 1\n",
    "            if number > n**2:\n",
    "                break\n",
    "            if moving == 'x':\n",
    "                nx += fx\n",
    "                ny = ny\n",
    "            elif moving == 'y':\n",
    "                nx = nx\n",
    "                ny += fy\n",
    "            matrix[nx][ny] = number\n",
    "        else:\n",
    "            corner_count += 1\n",
    "            s = 0\n",
    "            if corner_count % 2 == 0:\n",
    "                steps += 1\n",
    "            if moving == 'x':\n",
    "                fy *= -1\n",
    "                moving = 'y'\n",
    "            elif moving == 'y':\n",
    "                fx *= -1\n",
    "                moving = 'x'\n",
    "    \n",
    "    return matrix\n",
    "\n"
   ]
  },
  {
   "cell_type": "code",
   "execution_count": 6,
   "metadata": {},
   "outputs": [
    {
     "data": {
      "text/plain": [
       "[[5, 6, 7], [4, 1, 8], [3, 2, 9]]"
      ]
     },
     "execution_count": 6,
     "metadata": {},
     "output_type": "execute_result"
    }
   ],
   "source": [
    "generate_spiral_matrix(3)"
   ]
  },
  {
   "cell_type": "code",
   "execution_count": 5,
   "metadata": {},
   "outputs": [
    {
     "data": {
      "text/plain": [
       "[[65, 66, 67, 68, 69, 70, 71, 72, 73],\n",
       " [64, 37, 38, 39, 40, 41, 42, 43, 74],\n",
       " [63, 36, 17, 18, 19, 20, 21, 44, 75],\n",
       " [62, 35, 16, 5, 6, 7, 22, 45, 76],\n",
       " [61, 34, 15, 4, 1, 8, 23, 46, 77],\n",
       " [60, 33, 14, 3, 2, 9, 24, 47, 78],\n",
       " [59, 32, 13, 12, 11, 10, 25, 48, 79],\n",
       " [58, 31, 30, 29, 28, 27, 26, 49, 80],\n",
       " [57, 56, 55, 54, 53, 52, 51, 50, 81]]"
      ]
     },
     "execution_count": 5,
     "metadata": {},
     "output_type": "execute_result"
    }
   ],
   "source": [
    "generate_spiral_matrix(9)"
   ]
  }
 ],
 "metadata": {
  "kernelspec": {
   "display_name": "Python 3",
   "language": "python",
   "name": "python3"
  },
  "language_info": {
   "codemirror_mode": {
    "name": "ipython",
    "version": 3
   },
   "file_extension": ".py",
   "mimetype": "text/x-python",
   "name": "python",
   "nbconvert_exporter": "python",
   "pygments_lexer": "ipython3",
   "version": "3.10.11"
  }
 },
 "nbformat": 4,
 "nbformat_minor": 2
}
