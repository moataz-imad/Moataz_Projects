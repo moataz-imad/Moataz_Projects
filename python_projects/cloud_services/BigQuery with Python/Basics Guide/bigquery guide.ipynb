{
 "cells": [
  {
   "cell_type": "markdown",
   "metadata": {},
   "source": [
    "### Big Query Guide"
   ]
  },
  {
   "cell_type": "markdown",
   "metadata": {},
   "source": [
    "#### Connect to Big Query"
   ]
  },
  {
   "cell_type": "code",
   "execution_count": 1,
   "metadata": {},
   "outputs": [],
   "source": [
    "import pandas as pd\n",
    "from google.cloud import bigquery\n",
    "client = bigquery.Client(project=\"project_name\")"
   ]
  },
  {
   "cell_type": "code",
   "execution_count": null,
   "metadata": {},
   "outputs": [
    {
     "data": {
      "text/html": [
       "<div>\n",
       "<style scoped>\n",
       "    .dataframe tbody tr th:only-of-type {\n",
       "        vertical-align: middle;\n",
       "    }\n",
       "\n",
       "    .dataframe tbody tr th {\n",
       "        vertical-align: top;\n",
       "    }\n",
       "\n",
       "    .dataframe thead th {\n",
       "        text-align: right;\n",
       "    }\n",
       "</style>\n",
       "<table border=\"1\" class=\"dataframe\">\n",
       "  <thead>\n",
       "    <tr style=\"text-align: right;\">\n",
       "      <th></th>\n",
       "      <th>Dashboard ID</th>\n",
       "      <th>Dashboard Title</th>\n",
       "      <th>is_Deleted</th>\n",
       "      <th>Created At</th>\n",
       "      <th>Updated At</th>\n",
       "      <th>Last Updater Name</th>\n",
       "      <th>Last Viewed At</th>\n",
       "      <th>Element Title</th>\n",
       "      <th>Column Name</th>\n",
       "      <th>Column Label</th>\n",
       "      <th>Column Label_df2</th>\n",
       "      <th>Filter title</th>\n",
       "    </tr>\n",
       "  </thead>\n",
       "  <tbody>\n",
       "    <tr>\n",
       "      <th>0</th>\n",
       "      <td>7</td>\n",
       "      <td>AR Aging Report</td>\n",
       "      <td>False</td>\n",
       "      <td>2022-07-29 15:38:28+00:00</td>\n",
       "      <td>2022-08-16 20:55:47+00:00</td>\n",
       "      <td>Internal User</td>\n",
       "      <td>2024-11-08 22:24:39+00:00</td>\n",
       "      <td>NaN</td>\n",
       "      <td>v_ar_aging_tiers.csm_name</td>\n",
       "      <td>Csm Name</td>\n",
       "      <td>CSM Name</td>\n",
       "      <td>NaN</td>\n",
       "    </tr>\n",
       "    <tr>\n",
       "      <th>1</th>\n",
       "      <td>7</td>\n",
       "      <td>AR Aging Report</td>\n",
       "      <td>False</td>\n",
       "      <td>2022-07-29 15:38:28+00:00</td>\n",
       "      <td>2022-08-16 20:55:47+00:00</td>\n",
       "      <td>Internal User</td>\n",
       "      <td>2024-11-08 22:24:39+00:00</td>\n",
       "      <td>NaN</td>\n",
       "      <td>v_ar_aging_tiers.customer_id</td>\n",
       "      <td>Customer ID</td>\n",
       "      <td>NaN</td>\n",
       "      <td>NaN</td>\n",
       "    </tr>\n",
       "    <tr>\n",
       "      <th>2</th>\n",
       "      <td>7</td>\n",
       "      <td>AR Aging Report</td>\n",
       "      <td>False</td>\n",
       "      <td>2022-07-29 15:38:28+00:00</td>\n",
       "      <td>2022-08-16 20:55:47+00:00</td>\n",
       "      <td>Internal User</td>\n",
       "      <td>2024-11-08 22:24:39+00:00</td>\n",
       "      <td>NaN</td>\n",
       "      <td>v_ar_aging_tiers.customer_name</td>\n",
       "      <td>Customer Name</td>\n",
       "      <td>NaN</td>\n",
       "      <td>NaN</td>\n",
       "    </tr>\n",
       "    <tr>\n",
       "      <th>3</th>\n",
       "      <td>7</td>\n",
       "      <td>AR Aging Report</td>\n",
       "      <td>False</td>\n",
       "      <td>2022-07-29 15:38:28+00:00</td>\n",
       "      <td>2022-08-16 20:55:47+00:00</td>\n",
       "      <td>Internal User</td>\n",
       "      <td>2024-11-08 22:24:39+00:00</td>\n",
       "      <td>NaN</td>\n",
       "      <td>v_ar_aging_tiers.less_than_5</td>\n",
       "      <td>Less Than 5</td>\n",
       "      <td>&lt; 5 days late</td>\n",
       "      <td>NaN</td>\n",
       "    </tr>\n",
       "    <tr>\n",
       "      <th>4</th>\n",
       "      <td>7</td>\n",
       "      <td>AR Aging Report</td>\n",
       "      <td>False</td>\n",
       "      <td>2022-07-29 15:38:28+00:00</td>\n",
       "      <td>2022-08-16 20:55:47+00:00</td>\n",
       "      <td>Internal User</td>\n",
       "      <td>2024-11-08 22:24:39+00:00</td>\n",
       "      <td>NaN</td>\n",
       "      <td>v_ar_aging_tiers.five_to_30</td>\n",
       "      <td>Five to 30</td>\n",
       "      <td>5 to 30 days late</td>\n",
       "      <td>NaN</td>\n",
       "    </tr>\n",
       "  </tbody>\n",
       "</table>\n",
       "</div>"
      ],
      "text/plain": [
       "   Dashboard ID  Dashboard Title  is_Deleted                 Created At  \\\n",
       "0             7  AR Aging Report       False  2022-07-29 15:38:28+00:00   \n",
       "1             7  AR Aging Report       False  2022-07-29 15:38:28+00:00   \n",
       "2             7  AR Aging Report       False  2022-07-29 15:38:28+00:00   \n",
       "3             7  AR Aging Report       False  2022-07-29 15:38:28+00:00   \n",
       "4             7  AR Aging Report       False  2022-07-29 15:38:28+00:00   \n",
       "\n",
       "                  Updated At Last Updater Name             Last Viewed At  \\\n",
       "0  2022-08-16 20:55:47+00:00  Internal User  2024-11-08 22:24:39+00:00   \n",
       "1  2022-08-16 20:55:47+00:00  Internal User  2024-11-08 22:24:39+00:00   \n",
       "2  2022-08-16 20:55:47+00:00  Internal User  2024-11-08 22:24:39+00:00   \n",
       "3  2022-08-16 20:55:47+00:00  Internal User  2024-11-08 22:24:39+00:00   \n",
       "4  2022-08-16 20:55:47+00:00  Internal User  2024-11-08 22:24:39+00:00   \n",
       "\n",
       "  Element Title                     Column Name   Column Label  \\\n",
       "0           NaN       v_ar_aging_tiers.csm_name       Csm Name   \n",
       "1           NaN    v_ar_aging_tiers.customer_id    Customer ID   \n",
       "2           NaN  v_ar_aging_tiers.customer_name  Customer Name   \n",
       "3           NaN    v_ar_aging_tiers.less_than_5    Less Than 5   \n",
       "4           NaN     v_ar_aging_tiers.five_to_30     Five to 30   \n",
       "\n",
       "    Column Label_df2 Filter title  \n",
       "0           CSM Name          NaN  \n",
       "1                NaN          NaN  \n",
       "2                NaN          NaN  \n",
       "3      < 5 days late          NaN  \n",
       "4  5 to 30 days late          NaN  "
      ]
     },
     "metadata": {},
     "output_type": "display_data"
    }
   ],
   "source": [
    "final_df=pd.read_csv('result.csv',index_col=0)\n",
    "final_df.head()"
   ]
  },
  {
   "cell_type": "markdown",
   "metadata": {},
   "source": [
    "#### Read Table `bigquery -> pandas`"
   ]
  },
  {
   "cell_type": "code",
   "execution_count": null,
   "metadata": {},
   "outputs": [],
   "source": [
    "query = f\"SELECT * FROM dataset_2.v_view limit 5\"\n",
    "dataframe = client.query(query).to_dataframe()\n",
    "dataframe"
   ]
  },
  {
   "cell_type": "markdown",
   "metadata": {},
   "source": [
    "#### Write Table `pandas -> bigquery`\n"
   ]
  },
  {
   "cell_type": "code",
   "execution_count": null,
   "metadata": {},
   "outputs": [
    {
     "data": {
      "text/plain": [
       "LoadJob<project=project_name, location=US, id=b85e9361-b55b-499b-875c-72a9dc33d22d>"
      ]
     },
     "metadata": {},
     "output_type": "display_data"
    }
   ],
   "source": [
    "table_id = 'project_name.dataset_2.looker_report'\n",
    "\n",
    "job_config = bigquery.LoadJobConfig(\n",
    "    # write_disposition=bigquery.WriteDisposition.WRITE_APPEND # append (default if no config is set)\n",
    "    write_disposition=bigquery.WriteDisposition.WRITE_TRUNCATE # overwrite\n",
    ")\n",
    "\n",
    "# Load the DataFrame and overwrite the table\n",
    "job = client.load_table_from_dataframe(final_df, table_id, job_config=job_config)\n",
    "job.result()"
   ]
  },
  {
   "cell_type": "markdown",
   "metadata": {},
   "source": [
    "#### Copy Table `bigquery -> bigquery`"
   ]
  },
  {
   "cell_type": "code",
   "execution_count": null,
   "metadata": {},
   "outputs": [],
   "source": [
    "source_table_id = \"project.dataset.source_table\"\n",
    "destination_table_id = \"project.dataset.destination_table\"\n",
    "# job = client.copy_table(source_table_id, destination_table_id)\n",
    "job.result()\n",
    "print(\"Table copied.\")\n"
   ]
  },
  {
   "cell_type": "markdown",
   "metadata": {},
   "source": [
    "#### Delete Table"
   ]
  },
  {
   "cell_type": "code",
   "execution_count": 2,
   "metadata": {},
   "outputs": [
    {
     "name": "stdout",
     "output_type": "stream",
     "text": [
      "Table dataset_1.election_health_benefit_election deleted successfully.\n"
     ]
    }
   ],
   "source": [
    "table_id = 'dataset_1.election_health_benefit_election'\n",
    "# client.delete_table(table_id, not_found_ok=True)\n",
    "print(f\"Table {table_id} deleted successfully.\")"
   ]
  },
  {
   "cell_type": "markdown",
   "metadata": {},
   "source": [
    "#### Get Table Schema"
   ]
  },
  {
   "cell_type": "code",
   "execution_count": null,
   "metadata": {},
   "outputs": [],
   "source": [
    "table = client.get_table(\"project.dataset.table\")\n",
    "for field in table.schema:\n",
    "    print(field.name, field.field_type)\n"
   ]
  },
  {
   "cell_type": "markdown",
   "metadata": {},
   "source": [
    "#### Get View Query"
   ]
  },
  {
   "cell_type": "code",
   "execution_count": null,
   "metadata": {},
   "outputs": [
    {
     "name": "stdout",
     "output_type": "stream",
     "text": [
      "View Query:\n",
      "with bcos2 as (\n",
      "\tselect \n",
      "\t\\...)\n",
      "order by company_invite_date desc, company_name\n"
     ]
    }
   ],
   "source": [
    "# Define the view ID\n",
    "view_id = \"project_name.dataset_2.v_view\"  # Replace with your view ID\n",
    "\n",
    "# Get the view details\n",
    "view = client.get_table(view_id)  # API call\n",
    "\n",
    "# Print the view's query\n",
    "if view.view_query:\n",
    "    print(\"View Query:\")\n",
    "    print(view.view_query)\n",
    "else:\n",
    "    print(\"The specified table is not a view.\")\n"
   ]
  },
  {
   "cell_type": "markdown",
   "metadata": {},
   "source": [
    "### Copy `dataset_0` tables to `dataset_1`"
   ]
  },
  {
   "cell_type": "code",
   "execution_count": 16,
   "metadata": {},
   "outputs": [
    {
     "data": {
      "text/plain": [
       "<google.api_core.page_iterator.HTTPIterator at 0x290949205e0>"
      ]
     },
     "execution_count": 16,
     "metadata": {},
     "output_type": "execute_result"
    }
   ],
   "source": [
    "source_dataset_id = 'dataset_0'\n",
    "target_dataset_id = 'dataset_1'\n",
    "\n",
    "# List tables in the source dataset\n",
    "tables = client.list_tables(target_dataset_id)\n",
    "tables"
   ]
  },
  {
   "cell_type": "code",
   "execution_count": 8,
   "metadata": {},
   "outputs": [
    {
     "name": "stdout",
     "output_type": "stream",
     "text": [
      "Source: project_name.dataset_0\n",
      "Target:project_name.dataset_1\n",
      "project_name.dataset_1.table_0 Created!\n",
      "project_name.dataset_1.table_1 Created!\n",
      "project_name.dataset_1.table_2 Created!\n",
      "project_name.dataset_1.table_3 Created!\n",
      "project_name.dataset_1.table_4 Created!\n",
      "project_name.dataset_1.table_5 Created!\n",
      "project_name.dataset_1.table_6 Created!\n",
      "All Good! 👍\n"
     ]
    }
   ],
   "source": [
    "from google.cloud.exceptions import NotFound\n",
    "import time\n",
    "# Specify the source and target datasets\n",
    "# source_dataset_id = 'dataset_0'\n",
    "# target_dataset_id = 'dataset_02'\n",
    "\n",
    "source_dataset_id = 'project_name.dataset_0'\n",
    "target_dataset_id = 'project_name.dataset_1'\n",
    "\n",
    "print(f'Source: {source_dataset_id}\\nTarget:{target_dataset_id}')\n",
    "time.sleep(5)\n",
    "\n",
    "# List tables in the source dataset\n",
    "tables = client.list_tables(source_dataset_id)\n",
    "old_tables=[]\n",
    "\n",
    "for table in tables:\n",
    "    source_table_id = f\"{source_dataset_id}.{table.table_id}\"\n",
    "    target_table_id = f\"{target_dataset_id}.{table.table_id}\"\n",
    "    \n",
    "    # Check if the table already exists in the target dataset\n",
    "    try:\n",
    "        client.get_table(target_table_id)\n",
    "        old_tables.append(target_table_id)\n",
    "        # print(f\"Table {target_table_id} already exists. Skipping creation.\")\n",
    "        continue\n",
    "    except NotFound:\n",
    "        # Get the table schema\n",
    "        source_table = client.get_table(source_table_id)\n",
    "        table = bigquery.Table(target_table_id, schema=source_table.schema)\n",
    "        client.create_table(table) # uncomment this\n",
    "        print(f\"{target_table_id} Created!\")\n",
    "    \n",
    "    # Create a new table with the same schema in the target dataset\n",
    "    \n",
    "    \n",
    "\n",
    "print('All Good! 👍')"
   ]
  },
  {
   "cell_type": "code",
   "execution_count": 20,
   "metadata": {},
   "outputs": [],
   "source": [
    "# takes 86 seconds \n",
    "source_dataset_id = 'project_name.dataset_0'\n",
    "# target_dataset_id = 'project_name.dataset_02'\n",
    "\n",
    "# List tables in the source dataset\n",
    "tables = client.list_tables(source_dataset_id)\n",
    "\n",
    "for table in tables:\n",
    "        table_id = f\"{source_dataset_id}.{table.table_id}\"\n",
    "        \n",
    "        # Construct the DELETE query\n",
    "        query = f\"DELETE FROM `{table_id}` WHERE TRUE\"\n",
    "        print(query)\n",
    "        \n",
    "        # Run the query to delete all data\n",
    "        # query_job = client.query(query)\n",
    "        # query_job.result()"
   ]
  },
  {
   "cell_type": "code",
   "execution_count": null,
   "metadata": {},
   "outputs": [],
   "source": []
  }
 ],
 "metadata": {
  "kernelspec": {
   "display_name": "Python 3",
   "language": "python",
   "name": "python3"
  },
  "language_info": {
   "codemirror_mode": {
    "name": "ipython",
    "version": 3
   },
   "file_extension": ".py",
   "mimetype": "text/x-python",
   "name": "python",
   "nbconvert_exporter": "python",
   "pygments_lexer": "ipython3",
   "version": "3.10.0"
  }
 },
 "nbformat": 4,
 "nbformat_minor": 2
}
