{
 "cells": [
  {
   "cell_type": "code",
   "execution_count": null,
   "metadata": {},
   "outputs": [],
   "source": [
    "import looker_sdk\n",
    "import pandas as pd\n",
    "import os\n",
    "from tqdm import tqdm\n",
    "from datetime import datetime\n"
   ]
  },
  {
   "cell_type": "code",
   "execution_count": null,
   "metadata": {},
   "outputs": [
    {
     "name": "stdout",
     "output_type": "stream",
     "text": [
      "All environment variables set.\n"
     ]
    }
   ],
   "source": [
    "# os.environ[\"LOOKERSDK_BASE_URL\"] = \"LOOKERSDK_BASE_URL\" #If your looker URL has .cloud in it (hosted on GCP), do not include :19999 (ie: https://your.cloud.looker.com).\n",
    "# os.environ[\"LOOKERSDK_API_VERSION\"] = \"4.0\" #As of Looker v23.18+, the 3.0 and 3.1 versions of the API are removed. Use \"4.0\" here.\n",
    "# os.environ[\"LOOKERSDK_VERIFY_SSL\"] = \"true\" #Defaults to true if not set. SSL verification should generally be on unless you have a real good reason not to use it. Valid options: true, y, t, yes, 1.\n",
    "# os.environ[\"LOOKERSDK_TIMEOUT\"] = \"120\" #Seconds till request timeout. Standard default is 120.\n",
    "\n",
    "# os.environ[\"LOOKERSDK_CLIENT_ID\"] =  \"LOOKERSDK_CLIENT_ID\" #No defaults.\n",
    "# os.environ[\"LOOKERSDK_CLIENT_SECRET\"] = <hidden> #No defaults. This should be protected at all costs.\n",
    "if len(os.environ[\"LOOKERSDK_CLIENT_ID\"]) >0:\n",
    "    print(\"All environment variables set.\")\n",
    "else:\n",
    "    print('error, variables not set!!')"
   ]
  },
  {
   "cell_type": "code",
   "execution_count": 3,
   "metadata": {},
   "outputs": [
    {
     "name": "stdout",
     "output_type": "stream",
     "text": [
      "Looker SDK 4.0 initialized successfully.\n"
     ]
    }
   ],
   "source": [
    "sdk = looker_sdk.init40()\n",
    "print('Looker SDK 4.0 initialized successfully.')"
   ]
  },
  {
   "cell_type": "code",
   "execution_count": 4,
   "metadata": {},
   "outputs": [
    {
     "name": "stdout",
     "output_type": "stream",
     "text": [
      "Moataz\n"
     ]
    }
   ],
   "source": [
    "# check if connection works fine\n",
    "my_user = sdk.me()\n",
    "\n",
    "# print(my_user.first_name) # Model dot notation\n",
    "print(my_user[\"first_name\"]) # Dictionary"
   ]
  },
  {
   "cell_type": "code",
   "execution_count": 64,
   "metadata": {},
   "outputs": [
    {
     "name": "stdout",
     "output_type": "stream",
     "text": [
      "There are 82 looks and 1 dashboards.\n"
     ]
    }
   ],
   "source": [
    "looks_ids = [l.id for l in sdk.all_looks()] \n",
    "dbd_ids=[d.id for d in sdk.all_dashboards()] \n",
    "dbd_ids=['125'] \n",
    "\n",
    "print(f'There are {len(looks_ids)} looks and {len(dbd_ids)} dashboards.')\n"
   ]
  },
  {
   "cell_type": "code",
   "execution_count": 83,
   "metadata": {},
   "outputs": [
    {
     "name": "stderr",
     "output_type": "stream",
     "text": [
      "100%|██████████| 1/1 [00:00<00:00,  2.04it/s]"
     ]
    },
    {
     "name": "stdout",
     "output_type": "stream",
     "text": [
      "Reimbursement Classes per Company\n",
      "{'dashboard_id': '125', 'dashboard_title': 'Reimbursement Class Post Migration Validation', 'is_deleted': False, 'created_at': datetime.datetime(2024, 8, 15, 4, 7, 25, tzinfo=datetime.timezone.utc), 'updated_at': datetime.datetime(2024, 10, 25, 2, 40, 23, tzinfo=datetime.timezone.utc), 'updated_by': 'Moataz Imad', 'viewed_at': datetime.datetime(2024, 12, 19, 21, 30, 45, tzinfo=datetime.timezone.utc), 'element_title': 'Reimbursement Classes per Company', 'col_name': 'company_rc_validation.m_group', 'col_label': 'Migration Group'}\n",
      "{'dashboard_id': '125', 'dashboard_title': 'Reimbursement Class Post Migration Validation', 'is_deleted': False, 'created_at': datetime.datetime(2024, 8, 15, 4, 7, 25, tzinfo=datetime.timezone.utc), 'updated_at': datetime.datetime(2024, 10, 25, 2, 40, 23, tzinfo=datetime.timezone.utc), 'updated_by': 'Moataz Imad', 'viewed_at': datetime.datetime(2024, 12, 19, 21, 30, 45, tzinfo=datetime.timezone.utc), 'element_title': 'Reimbursement Classes per Company', 'col_name': 'company_rc_validation.legacy_rc_count', 'col_label': 'Legacy Class Count'}\n",
      "{'dashboard_id': '125', 'dashboard_title': 'Reimbursement Class Post Migration Validation', 'is_deleted': False, 'created_at': datetime.datetime(2024, 8, 15, 4, 7, 25, tzinfo=datetime.timezone.utc), 'updated_at': datetime.datetime(2024, 10, 25, 2, 40, 23, tzinfo=datetime.timezone.utc), 'updated_by': 'Moataz Imad', 'viewed_at': datetime.datetime(2024, 12, 19, 21, 30, 45, tzinfo=datetime.timezone.utc), 'element_title': 'Reimbursement Classes per Company', 'col_name': 'company_rc_validation.env_rc_count', 'col_label': 'HRA Hub Class Count'}\n",
      "{'dashboard_id': '125', 'dashboard_title': 'Reimbursement Class Post Migration Validation', 'is_deleted': False, 'created_at': datetime.datetime(2024, 8, 15, 4, 7, 25, tzinfo=datetime.timezone.utc), 'updated_at': datetime.datetime(2024, 10, 25, 2, 40, 23, tzinfo=datetime.timezone.utc), 'updated_by': 'Moataz Imad', 'viewed_at': datetime.datetime(2024, 12, 19, 21, 30, 45, tzinfo=datetime.timezone.utc), 'element_title': 'Reimbursement Classes per Company', 'col_name': 'company_rc_validation.match', 'col_label': 'Match?'}\n",
      "Employees per Reimbursement Class\n",
      "{'dashboard_id': '125', 'dashboard_title': 'Reimbursement Class Post Migration Validation', 'is_deleted': False, 'created_at': datetime.datetime(2024, 8, 15, 4, 7, 25, tzinfo=datetime.timezone.utc), 'updated_at': datetime.datetime(2024, 10, 25, 2, 40, 23, tzinfo=datetime.timezone.utc), 'updated_by': 'Moataz Imad', 'viewed_at': datetime.datetime(2024, 12, 19, 21, 30, 45, tzinfo=datetime.timezone.utc), 'element_title': 'Employees per Reimbursement Class', 'col_name': 'rc_ee_validation.m_group', 'col_label': 'Migration Group'}\n",
      "{'dashboard_id': '125', 'dashboard_title': 'Reimbursement Class Post Migration Validation', 'is_deleted': False, 'created_at': datetime.datetime(2024, 8, 15, 4, 7, 25, tzinfo=datetime.timezone.utc), 'updated_at': datetime.datetime(2024, 10, 25, 2, 40, 23, tzinfo=datetime.timezone.utc), 'updated_by': 'Moataz Imad', 'viewed_at': datetime.datetime(2024, 12, 19, 21, 30, 45, tzinfo=datetime.timezone.utc), 'element_title': 'Employees per Reimbursement Class', 'col_name': 'rc_ee_validation.legacy_ee_count', 'col_label': 'Legacy EE Count'}\n",
      "{'dashboard_id': '125', 'dashboard_title': 'Reimbursement Class Post Migration Validation', 'is_deleted': False, 'created_at': datetime.datetime(2024, 8, 15, 4, 7, 25, tzinfo=datetime.timezone.utc), 'updated_at': datetime.datetime(2024, 10, 25, 2, 40, 23, tzinfo=datetime.timezone.utc), 'updated_by': 'Moataz Imad', 'viewed_at': datetime.datetime(2024, 12, 19, 21, 30, 45, tzinfo=datetime.timezone.utc), 'element_title': 'Employees per Reimbursement Class', 'col_name': 'rc_ee_validation.env_ee_count', 'col_label': 'HRA Hub EE Count'}\n",
      "Employees per Company per HRA Hub Table\n",
      "2 no series_labels for [Reimbursement Class Post Migration Validation].[Employees per Company per HRA Hub Table]\n",
      "DashboardElement(can={'create': True, 'destroy': True, 'update': True, 'explore': True, 'find_and_replace': True, 'show_errors': True, 'index': True, 'show': True, 'run': False, 'see_aggregate_table_lookml': True}, body_text=None, body_text_as_html=None, dashboard_id='125', edit_uri=None, id='920', look=None, look_id=None, lookml_link_id='', merge_result_id=None, note_display=None, note_state=None, note_text=None, note_text_as_html=None, query=Query(model='Data_Quality', view='migrated_per_er_validation', can={'cost_estimate': True, 'create': True, 'index': True, 'show': True, 'download': True, 'download_unlimited': True, 'edit_custom_fields': True, 'edit_table_calculations': True, 'explore': True, 'generate_drill_links': True, 'render': True, 'run': True, 'see_results': True, 'save': True, 'schedule': True, 'see_aggregate_table_lookml': True, 'see_derived_table_lookml': True, 'see_lookml': True, 'see_sql': True, 'use_custom_fields': True}, id='229890', fields=['migrated_per_er_validation.legacy_id', 'migrated_per_er_validation.env_id', 'migrated_per_er_validation.company_name', 'migrated_per_er_validation.records_in_legacy', 'migrated_per_er_validation.records_in_person', 'migrated_per_er_validation.records_in_employee', 'migrated_per_er_validation.records_in_company_admin', 'migrated_per_er_validation.records_in_address', 'migrated_per_er_validation.records_in_health_benefit', 'migrated_per_er_validation.records_in_election_employee', 'migrated_per_er_validation.records_in_election_address'], pivots=None, fill_fields=None, filters=None, filter_expression=None, sorts=['migrated_per_er_validation.legacy_id'], limit='500', column_limit='50', total=None, row_total=None, subtotals=None, vis_config={'show_view_names': False, 'show_row_numbers': True, 'transpose': False, 'truncate_text': True, 'hide_totals': False, 'hide_row_totals': False, 'size_to_fit': True, 'table_theme': 'white', 'limit_displayed_rows': False, 'enable_conditional_formatting': False, 'header_text_alignment': 'left', 'header_font_size': 12, 'rows_font_size': 12, 'conditional_formatting_include_totals': False, 'conditional_formatting_include_nulls': False, 'type': 'looker_grid', 'series_types': {}, 'defaults_version': 1}, filter_config={}, visible_ui_sections=None, slug='83msqjP2PzBRFvg7cRJNSRPSw4mDwVhc', dynamic_fields='[]', client_id='ipw2Gm5qydhMoyryLVINiX', share_url='https://takecommandhealth.cloud.looker.com/x/ipw2Gm5qydhMoyryLVINiX', expanded_share_url='https://takecommandhealth.cloud.looker.com/explore/Data_Quality/migrated_per_er_validation?fields=migrated_per_er_validation.legacy_id,migrated_per_er_validation.env_id,migrated_per_er_validation.company_name,migrated_per_er_validation.records_in_legacy,migrated_per_er_validation.records_in_person,migrated_per_er_validation.records_in_employee,migrated_per_er_validation.records_in_company_admin,migrated_per_er_validation.records_in_address,migrated_per_er_validation.records_in_health_benefit,migrated_per_er_validation.records_in_election_employee,migrated_per_er_validation.records_in_election_address&sorts=migrated_per_er_validation.legacy_id&limit=500&column_limit=50&vis=%7B%22show_view_names%22%3Afalse%2C%22show_row_numbers%22%3Atrue%2C%22transpose%22%3Afalse%2C%22truncate_text%22%3Atrue%2C%22hide_totals%22%3Afalse%2C%22hide_row_totals%22%3Afalse%2C%22size_to_fit%22%3Atrue%2C%22table_theme%22%3A%22white%22%2C%22limit_displayed_rows%22%3Afalse%2C%22enable_conditional_formatting%22%3Afalse%2C%22header_text_alignment%22%3A%22left%22%2C%22header_font_size%22%3A12%2C%22rows_font_size%22%3A12%2C%22conditional_formatting_include_totals%22%3Afalse%2C%22conditional_formatting_include_nulls%22%3Afalse%2C%22type%22%3A%22looker_grid%22%2C%22series_types%22%3A%7B%7D%2C%22defaults_version%22%3A1%7D&filter_config=%7B%7D&dynamic_fields=%5B%5D&origin=share-expanded', url='/explore/Data_Quality/migrated_per_er_validation?fields=migrated_per_er_validation.legacy_id,migrated_per_er_validation.env_id,migrated_per_er_validation.company_name,migrated_per_er_validation.records_in_legacy,migrated_per_er_validation.records_in_person,migrated_per_er_validation.records_in_employee,migrated_per_er_validation.records_in_company_admin,migrated_per_er_validation.records_in_address,migrated_per_er_validation.records_in_health_benefit,migrated_per_er_validation.records_in_election_employee,migrated_per_er_validation.records_in_election_address&sorts=migrated_per_er_validation.legacy_id&limit=500&column_limit=50&vis=%7B%22show_view_names%22%3Afalse%2C%22show_row_numbers%22%3Atrue%2C%22transpose%22%3Afalse%2C%22truncate_text%22%3Atrue%2C%22hide_totals%22%3Afalse%2C%22hide_row_totals%22%3Afalse%2C%22size_to_fit%22%3Atrue%2C%22table_theme%22%3A%22white%22%2C%22limit_displayed_rows%22%3Afalse%2C%22enable_conditional_formatting%22%3Afalse%2C%22header_text_alignment%22%3A%22left%22%2C%22header_font_size%22%3A12%2C%22rows_font_size%22%3A12%2C%22conditional_formatting_include_totals%22%3Afalse%2C%22conditional_formatting_include_nulls%22%3Afalse%2C%22type%22%3A%22looker_grid%22%2C%22series_types%22%3A%7B%7D%2C%22defaults_version%22%3A1%7D&filter_config=%7B%7D&dynamic_fields=%5B%5D', query_timezone=None, has_table_calculations=False), query_id='229890', refresh_interval=None, refresh_interval_to_i=None, result_maker=ResultMakerWithIdVisConfigAndDynamicFields(id='4586', dynamic_fields='[]', filterables=[ResultMakerFilterables(model='Data_Quality', view='migrated_per_er_validation', name='', listen=[ResultMakerFilterablesListen(dashboard_filter_name='Company Name', field='migrated_per_er_validation.company_name')])], sorts=['migrated_per_er_validation.legacy_id'], merge_result_id=None, total=False, query_id='229890', sql_query_id='', query=Query(model='Data_Quality', view='migrated_per_er_validation', can={'cost_estimate': True, 'create': True, 'index': True, 'show': True, 'download': True, 'download_unlimited': True, 'edit_custom_fields': True, 'edit_table_calculations': True, 'explore': True, 'generate_drill_links': True, 'render': True, 'run': True, 'see_results': True, 'save': True, 'schedule': True, 'see_aggregate_table_lookml': True, 'see_derived_table_lookml': True, 'see_lookml': True, 'see_sql': True, 'use_custom_fields': True}, id='229890', fields=['migrated_per_er_validation.legacy_id', 'migrated_per_er_validation.env_id', 'migrated_per_er_validation.company_name', 'migrated_per_er_validation.records_in_legacy', 'migrated_per_er_validation.records_in_person', 'migrated_per_er_validation.records_in_employee', 'migrated_per_er_validation.records_in_company_admin', 'migrated_per_er_validation.records_in_address', 'migrated_per_er_validation.records_in_health_benefit', 'migrated_per_er_validation.records_in_election_employee', 'migrated_per_er_validation.records_in_election_address'], pivots=None, fill_fields=None, filters=None, filter_expression=None, sorts=['migrated_per_er_validation.legacy_id'], limit='500', column_limit='50', total=None, row_total=None, subtotals=None, vis_config={'show_view_names': False, 'show_row_numbers': True, 'transpose': False, 'truncate_text': True, 'hide_totals': False, 'hide_row_totals': False, 'size_to_fit': True, 'table_theme': 'white', 'limit_displayed_rows': False, 'enable_conditional_formatting': False, 'header_text_alignment': 'left', 'header_font_size': 12, 'rows_font_size': 12, 'conditional_formatting_include_totals': False, 'conditional_formatting_include_nulls': False, 'type': 'looker_grid', 'series_types': {}, 'defaults_version': 1}, filter_config={}, visible_ui_sections=None, slug='83msqjP2PzBRFvg7cRJNSRPSw4mDwVhc', dynamic_fields='[]', client_id='ipw2Gm5qydhMoyryLVINiX', share_url='https://takecommandhealth.cloud.looker.com/x/ipw2Gm5qydhMoyryLVINiX', expanded_share_url='https://takecommandhealth.cloud.looker.com/explore/Data_Quality/migrated_per_er_validation?fields=migrated_per_er_validation.legacy_id,migrated_per_er_validation.env_id,migrated_per_er_validation.company_name,migrated_per_er_validation.records_in_legacy,migrated_per_er_validation.records_in_person,migrated_per_er_validation.records_in_employee,migrated_per_er_validation.records_in_company_admin,migrated_per_er_validation.records_in_address,migrated_per_er_validation.records_in_health_benefit,migrated_per_er_validation.records_in_election_employee,migrated_per_er_validation.records_in_election_address&sorts=migrated_per_er_validation.legacy_id&limit=500&column_limit=50&vis=%7B%22show_view_names%22%3Afalse%2C%22show_row_numbers%22%3Atrue%2C%22transpose%22%3Afalse%2C%22truncate_text%22%3Atrue%2C%22hide_totals%22%3Afalse%2C%22hide_row_totals%22%3Afalse%2C%22size_to_fit%22%3Atrue%2C%22table_theme%22%3A%22white%22%2C%22limit_displayed_rows%22%3Afalse%2C%22enable_conditional_formatting%22%3Afalse%2C%22header_text_alignment%22%3A%22left%22%2C%22header_font_size%22%3A12%2C%22rows_font_size%22%3A12%2C%22conditional_formatting_include_totals%22%3Afalse%2C%22conditional_formatting_include_nulls%22%3Afalse%2C%22type%22%3A%22looker_grid%22%2C%22series_types%22%3A%7B%7D%2C%22defaults_version%22%3A1%7D&filter_config=%7B%7D&dynamic_fields=%5B%5D&origin=share-expanded', url='/explore/Data_Quality/migrated_per_er_validation?fields=migrated_per_er_validation.legacy_id,migrated_per_er_validation.env_id,migrated_per_er_validation.company_name,migrated_per_er_validation.records_in_legacy,migrated_per_er_validation.records_in_person,migrated_per_er_validation.records_in_employee,migrated_per_er_validation.records_in_company_admin,migrated_per_er_validation.records_in_address,migrated_per_er_validation.records_in_health_benefit,migrated_per_er_validation.records_in_election_employee,migrated_per_er_validation.records_in_election_address&sorts=migrated_per_er_validation.legacy_id&limit=500&column_limit=50&vis=%7B%22show_view_names%22%3Afalse%2C%22show_row_numbers%22%3Atrue%2C%22transpose%22%3Afalse%2C%22truncate_text%22%3Atrue%2C%22hide_totals%22%3Afalse%2C%22hide_row_totals%22%3Afalse%2C%22size_to_fit%22%3Atrue%2C%22table_theme%22%3A%22white%22%2C%22limit_displayed_rows%22%3Afalse%2C%22enable_conditional_formatting%22%3Afalse%2C%22header_text_alignment%22%3A%22left%22%2C%22header_font_size%22%3A12%2C%22rows_font_size%22%3A12%2C%22conditional_formatting_include_totals%22%3Afalse%2C%22conditional_formatting_include_nulls%22%3Afalse%2C%22type%22%3A%22looker_grid%22%2C%22series_types%22%3A%7B%7D%2C%22defaults_version%22%3A1%7D&filter_config=%7B%7D&dynamic_fields=%5B%5D', query_timezone=None, has_table_calculations=False), vis_config={'show_view_names': False, 'show_row_numbers': True, 'transpose': False, 'truncate_text': True, 'hide_totals': False, 'hide_row_totals': False, 'size_to_fit': True, 'table_theme': 'white', 'limit_displayed_rows': False, 'enable_conditional_formatting': False, 'header_text_alignment': 'left', 'header_font_size': 12, 'rows_font_size': 12, 'conditional_formatting_include_totals': False, 'conditional_formatting_include_nulls': False, 'type': 'looker_grid', 'series_types': {}, 'defaults_version': 1}), result_maker_id='4586', subtitle_text=None, title='Employees per Company per HRA Hub Table', title_hidden=False, title_text=None, type='vis', alert_count=0, rich_content_json=None, title_text_as_html=None, subtitle_text_as_html=None, extension_id=None)\n"
     ]
    },
    {
     "name": "stderr",
     "output_type": "stream",
     "text": [
      "\n"
     ]
    }
   ],
   "source": [
    "# uses series_labels for all\n",
    "data1 = [] # all main columns\n",
    "data2 = [] # relabeled names (ie Company Name -> Co Name)\n",
    "data3 = [] # filtered values \n",
    "\n",
    "titles=[] # dashboard titles\n",
    "for i,id in tqdm(enumerate(dbd_ids), total=len(dbd_ids)):\n",
    "    dbd=sdk.dashboard(id)\n",
    "    dbd_title=dbd['title'] # dashboard title\n",
    "    if dbd_title !='Reimbursement Class Post Migration Validation':\n",
    "        continue\n",
    "    titles.append(dbd_title)\n",
    "    # print(f'{i} {dbd_title} ---',end=' ')\n",
    "    # if (i)%10 ==0:\n",
    "    #     print(f'{i} {dbd_title} ---')\n",
    "        # print('')  \n",
    "    dbd_created_at=dbd['created_at']\n",
    "    dbd_updated_at=dbd['updated_at']\n",
    "    dbd_last_updater_name=dbd['last_updater_name']\n",
    "    dbd_last_viewed_at=dbd['last_viewed_at']\n",
    "    dbd_deleted=dbd['deleted']\n",
    "    #---\n",
    "    dbd_els=dbd['dashboard_elements'] # dashboard elements (tables, visuals, etc)\n",
    "    for tbl in dbd_els:\n",
    "        table_title=tbl['title']\n",
    "        print(table_title)\n",
    "        if tbl.result_maker is None:\n",
    "            print(f'0 no result_maker for [{dbd_title}].[{table_title}]')\n",
    "            continue\n",
    "        if tbl.result_maker.query is None:\n",
    "            print(f'0.5 no query for [{dbd_title}].[{table_title}]')\n",
    "            continue\n",
    "        vis_config=tbl.result_maker.query.vis_config # ideally if the element is a table, this will have a value\n",
    "        if 'series_labels' not in vis_config:\n",
    "            print(f'2 no series_labels for [{dbd_title}].[{table_title}]')\n",
    "            print(tbl)\n",
    "            break\n",
    "            continue\n",
    "        for k,v in vis_config['series_labels'].items():\n",
    "            # print(' '.join(i), len(' '.join(i)))\n",
    "            col_name= k # ledger_report_hra_hub.company_name\n",
    "            col_label= v # Co Name (renamed column)\n",
    "            d1={\n",
    "                \"dashboard_id\": id,\n",
    "                \"dashboard_title\": dbd_title,\n",
    "                \"is_deleted\": dbd_deleted,\n",
    "                \"created_at\": dbd_created_at,\n",
    "                \"updated_at\": dbd_updated_at,\n",
    "                \"updated_by\": dbd_last_updater_name,\n",
    "                \"viewed_at\": dbd_last_viewed_at,\n",
    "                \"element_title\": table_title,\n",
    "                \"col_name\": col_name,\n",
    "                \"col_label\": col_label\n",
    "            }\n",
    "            print(d1)\n",
    "            data1.append(d1)\n",
    "            \n",
    "        for k,v in vis_config['series_labels'].items():\n",
    "            # print(' '.join(i), len(' '.join(i)))\n",
    "            col_name2= k # ledger_report_hra_hub.company_name\n",
    "            col_label2= v # Co Name (renamed column)\n",
    "            data2.append({\n",
    "                \"dashboard_id\": id,\n",
    "                \"col_name\": col_name2,\n",
    "                \"col_label\": col_label2\n",
    "            })\n",
    "    dbd_filters=dbd['dashboard_filters']\n",
    "    for filter in dbd_filters:\n",
    "        filter_title=filter['title'] # how does it look like in the dashboard\n",
    "        col_name3=filter['dimension'] # what field is this filter connected to?\n",
    "        data3.append({\n",
    "                \"dashboard_id\": id,\n",
    "                \"col_name\": col_name3,\n",
    "                \"filter\": filter_title\n",
    "            })\n",
    "        \n",
    "            \n",
    "df1 = pd.DataFrame(data1)\n",
    "df2 = pd.DataFrame(data2)\n",
    "df3 = pd.DataFrame(data3)"
   ]
  },
  {
   "cell_type": "code",
   "execution_count": 20,
   "metadata": {},
   "outputs": [
    {
     "name": "stdout",
     "output_type": "stream",
     "text": [
      "df1: Index(['dashboard_id', 'dashboard_title', 'is_deleted', 'created_at',\n",
      "       'updated_at', 'updated_by', 'viewed_at', 'element_title', 'col_name',\n",
      "       'col_label'],\n",
      "      dtype='object')\n",
      "df2: Index(['dashboard_id', 'col_name', 'col_label'], dtype='object')\n",
      "df3: Index(['dashboard_id', 'col_name', 'filter'], dtype='object')\n"
     ]
    }
   ],
   "source": [
    "print(f'df1: {df1.columns}')\n",
    "print(f'df2: {df2.columns}')\n",
    "print(f'df3: {df3.columns}')"
   ]
  },
  {
   "cell_type": "code",
   "execution_count": 33,
   "metadata": {},
   "outputs": [],
   "source": [
    "# join df1, df2, df3 on dashboard_id, and column_name\n",
    "df_merged = pd.merge(df1, df2, on=['dashboard_id', 'col_name'], how='left', suffixes=('', '_2'))\n",
    "\n",
    "result = pd.merge(df_merged, df3, on=['dashboard_id', 'col_name'], how='left', suffixes=('', '_df3'))\n",
    "\n",
    "result.to_csv('result.csv')"
   ]
  },
  {
   "cell_type": "markdown",
   "metadata": {},
   "source": [
    "### Write to Bigquery"
   ]
  },
  {
   "cell_type": "code",
   "execution_count": null,
   "metadata": {},
   "outputs": [],
   "source": [
    "result=pd.read_csv('result.csv',index_col=0)\n"
   ]
  },
  {
   "cell_type": "code",
   "execution_count": null,
   "metadata": {},
   "outputs": [],
   "source": [
    "result['column_lable']=result.apply(lambda x: x['col_label'] if pd.isnull(x['col_label_2']) else x['col_label_2'], axis=1)\n",
    "result['timestamp']=datetime.now()\n",
    "final_df=result[['timestamp','dashboard_id', 'dashboard_title', 'is_deleted', 'created_at',\n",
    "       'updated_at', 'updated_by', 'viewed_at', 'element_title', 'col_name','column_lable','filter']]"
   ]
  },
  {
   "cell_type": "code",
   "execution_count": null,
   "metadata": {},
   "outputs": [
    {
     "name": "stdout",
     "output_type": "stream",
     "text": [
      "1\n",
      "2\n",
      "3\n"
     ]
    },
    {
     "ename": "ValueError",
     "evalue": "test",
     "output_type": "error",
     "traceback": [
      "\u001b[1;31m---------------------------------------------------------------------------\u001b[0m",
      "\u001b[1;31mValueError\u001b[0m                                Traceback (most recent call last)",
      "Cell \u001b[1;32mIn[4], line 4\u001b[0m\n\u001b[0;32m      2\u001b[0m \u001b[38;5;28mprint\u001b[39m(\u001b[38;5;241m2\u001b[39m)\n\u001b[0;32m      3\u001b[0m \u001b[38;5;28mprint\u001b[39m(\u001b[38;5;241m3\u001b[39m)\n\u001b[1;32m----> 4\u001b[0m \u001b[38;5;28;01mraise\u001b[39;00m \u001b[38;5;167;01mValueError\u001b[39;00m(\u001b[38;5;124m'\u001b[39m\u001b[38;5;124mtest\u001b[39m\u001b[38;5;124m'\u001b[39m)\n\u001b[0;32m      5\u001b[0m \u001b[38;5;28mprint\u001b[39m(\u001b[38;5;241m4\u001b[39m)\n",
      "\u001b[1;31mValueError\u001b[0m: test"
     ]
    }
   ],
   "source": [
    "print(1)\n",
    "print(2)\n",
    "print(3)\n",
    "raise ValueError('test')\n",
    "print(4)"
   ]
  },
  {
   "cell_type": "markdown",
   "metadata": {},
   "source": [
    "#### Connect to Big Query"
   ]
  },
  {
   "cell_type": "code",
   "execution_count": 55,
   "metadata": {},
   "outputs": [],
   "source": [
    "from google.cloud import bigquery\n",
    "client = bigquery.Client(project=\"key-chalice-340021\")"
   ]
  },
  {
   "cell_type": "markdown",
   "metadata": {},
   "source": [
    "#### Write Table `pandas -> bigquery`\n"
   ]
  },
  {
   "cell_type": "code",
   "execution_count": 56,
   "metadata": {},
   "outputs": [
    {
     "data": {
      "text/plain": [
       "LoadJob<project=key-chalice-340021, location=US, id=ca3e9779-866e-48de-aed4-a928b761048c>"
      ]
     },
     "execution_count": 56,
     "metadata": {},
     "output_type": "execute_result"
    }
   ],
   "source": [
    "table_id = 'key-chalice-340021.reports.looker_report'\n",
    "\n",
    "job_config = bigquery.LoadJobConfig(\n",
    "    # write_disposition=bigquery.WriteDisposition.WRITE_APPEND # append (default if no config is set)\n",
    "    write_disposition=bigquery.WriteDisposition.WRITE_TRUNCATE # overwrite\n",
    ")\n",
    "\n",
    "# Load the DataFrame and overwrite the table\n",
    "job = client.load_table_from_dataframe(final_df, table_id, job_config=job_config)\n",
    "job.result()"
   ]
  },
  {
   "cell_type": "code",
   "execution_count": 57,
   "metadata": {},
   "outputs": [
    {
     "data": {
      "text/plain": [
       "Index(['timestamp', 'dashboard_id', 'dashboard_title', 'is_deleted',\n",
       "       'created_at', 'updated_at', 'updated_by', 'viewed_at', 'element_title',\n",
       "       'col_name', 'column_lable', 'filter'],\n",
       "      dtype='object')"
      ]
     },
     "execution_count": 57,
     "metadata": {},
     "output_type": "execute_result"
    }
   ],
   "source": [
    "final_df.columns"
   ]
  },
  {
   "cell_type": "markdown",
   "metadata": {},
   "source": []
  }
 ],
 "metadata": {
  "kernelspec": {
   "display_name": "Python 3",
   "language": "python",
   "name": "python3"
  },
  "language_info": {
   "codemirror_mode": {
    "name": "ipython",
    "version": 3
   },
   "file_extension": ".py",
   "mimetype": "text/x-python",
   "name": "python",
   "nbconvert_exporter": "python",
   "pygments_lexer": "ipython3",
   "version": "3.10.0"
  }
 },
 "nbformat": 4,
 "nbformat_minor": 2
}
