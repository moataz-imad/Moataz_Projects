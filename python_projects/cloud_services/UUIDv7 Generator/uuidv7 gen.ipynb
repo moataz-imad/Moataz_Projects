{
 "cells": [
  {
   "cell_type": "code",
   "execution_count": 5,
   "metadata": {},
   "outputs": [],
   "source": [
    "import uuid"
   ]
  },
  {
   "cell_type": "code",
   "execution_count": 6,
   "metadata": {},
   "outputs": [],
   "source": [
    "def generate_uuid():\n",
    "    return str(uuid.uuid4())"
   ]
  },
  {
   "cell_type": "code",
   "execution_count": 7,
   "metadata": {},
   "outputs": [],
   "source": [
    "from uuid6 import uuid7"
   ]
  },
  {
   "cell_type": "code",
   "execution_count": 17,
   "metadata": {},
   "outputs": [
    {
     "name": "stdout",
     "output_type": "stream",
     "text": [
      "UUIDs have been exported to uuid7_list.csv\n"
     ]
    }
   ],
   "source": [
    "# [str(uuid.uuid4()) for _ in range(1000)]\n",
    "\n",
    "import time\n",
    "import random\n",
    "import uuid\n",
    "import csv\n",
    "\n",
    "def generate_uuid7():\n",
    "    # Timestamp in milliseconds since Unix epoch\n",
    "    timestamp = int(time.time() * 1000)\n",
    "    \n",
    "    # Get the first 6 bytes of the timestamp (48 bits)\n",
    "    timestamp_bytes = timestamp.to_bytes(6, byteorder='big')\n",
    "    \n",
    "    # Create a random 10-byte sequence\n",
    "    random_bytes = random.getrandbits(80).to_bytes(10, byteorder='big')\n",
    "    \n",
    "    # Combine timestamp and random bytes to form the UUID\n",
    "    uuid7_bytes = timestamp_bytes + random_bytes\n",
    "    \n",
    "    # Convert bytes to UUID object\n",
    "    return uuid.UUID(bytes=uuid7_bytes)\n",
    "\n",
    "# Generate 1000 UUIDv7-like identifiers\n",
    "uuid7_list = [str(generate_uuid7()) for _ in range(1000)]\n",
    "\n",
    "# Export to CSV\n",
    "with open('uuid7_list.csv', mode='w', newline='') as file:\n",
    "    writer = csv.writer(file)\n",
    "    writer.writerow([\"UUID\"])\n",
    "    for uuid7 in uuid7_list:\n",
    "        writer.writerow([uuid7])\n",
    "\n",
    "print(\"UUIDs have been exported to uuid7_list.csv\")\n",
    "\n",
    "\n"
   ]
  },
  {
   "cell_type": "code",
   "execution_count": 22,
   "metadata": {},
   "outputs": [
    {
     "data": {
      "text/plain": [
       "'01909478-c0a2-727d-b041-a4d394170df4'"
      ]
     },
     "execution_count": 22,
     "metadata": {},
     "output_type": "execute_result"
    }
   ],
   "source": [
    "import uuid6\n",
    "str(uuid6.uuid7())"
   ]
  },
  {
   "cell_type": "code",
   "execution_count": 23,
   "metadata": {},
   "outputs": [
    {
     "name": "stdout",
     "output_type": "stream",
     "text": [
      "Timestamp in UUID: 2024-07-08 22:31:00\n"
     ]
    }
   ],
   "source": [
    "import uuid\n",
    "import time\n",
    "\n",
    "def extract_timestamp_from_uuid7(uuid_str):\n",
    "    # Convert the UUID string to a UUID object\n",
    "    uuid_obj = uuid.UUID(uuid_str)\n",
    "    \n",
    "    # Extract the first 6 bytes (48 bits) of the UUID\n",
    "    timestamp_bytes = uuid_obj.bytes[:6]\n",
    "    \n",
    "    # Convert the bytes to an integer\n",
    "    timestamp = int.from_bytes(timestamp_bytes, byteorder='big')\n",
    "    \n",
    "    # Convert the timestamp from milliseconds to a human-readable format\n",
    "    timestamp_seconds = timestamp / 1000\n",
    "    time_struct = time.gmtime(timestamp_seconds)\n",
    "    formatted_time = time.strftime('%Y-%m-%d %H:%M:%S', time_struct)\n",
    "    \n",
    "    return formatted_time\n",
    "\n",
    "# Example UUIDv7-like identifier\n",
    "uuid_str = '01909478-c0a2-727d-b041-a4d394170df4'\n",
    "print(\"Timestamp in UUID:\", extract_timestamp_from_uuid7(uuid_str))\n"
   ]
  }
 ],
 "metadata": {
  "kernelspec": {
   "display_name": "Python 3",
   "language": "python",
   "name": "python3"
  },
  "language_info": {
   "codemirror_mode": {
    "name": "ipython",
    "version": 3
   },
   "file_extension": ".py",
   "mimetype": "text/x-python",
   "name": "python",
   "nbconvert_exporter": "python",
   "pygments_lexer": "ipython3",
   "version": "3.10.11"
  }
 },
 "nbformat": 4,
 "nbformat_minor": 2
}
